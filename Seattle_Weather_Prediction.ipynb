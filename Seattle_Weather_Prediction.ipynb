{
 "cells": [
  {
   "cell_type": "markdown",
   "id": "d8a23c95",
   "metadata": {},
   "source": [
    "# **Logistic Regression**"
   ]
  },
  {
   "cell_type": "markdown",
   "id": "27db8203",
   "metadata": {},
   "source": [
    "## **Agenda**"
   ]
  },
  {
   "cell_type": "markdown",
   "id": "9154d1a3",
   "metadata": {},
   "source": [
    "we will cover the following concepts with the help of a business use case:\n",
    "* EDA (Exploratory Data Analysis)\n",
    "* Data Cleaning \n",
    "* Logistic Regression with Sklearn"
   ]
  },
  {
   "cell_type": "markdown",
   "id": "579c201e",
   "metadata": {},
   "source": [
    "## **Use Case: Logistic Regression**\n",
    "\n",
    "Note: At first, with the help of a use case, we are going to perform all the basic steps to reach the training and predicition part."
   ]
  },
  {
   "cell_type": "markdown",
   "id": "deda8f81",
   "metadata": {},
   "source": [
    "### **Problem Statement**"
   ]
  },
  {
   "cell_type": "markdown",
   "id": "b6472150",
   "metadata": {},
   "source": [
    "\n",
    "\n",
    "One of the aspects Seattle is most notable for, in addition to coffee, grunge, and electronic businesses, is its rains. From January 1, 1948 to December 12, 2017, this dataset provides full records of Seattle's daily rainfall patterns.\n",
    "\n"
   ]
  },
  {
   "cell_type": "markdown",
   "id": "f504660d",
   "metadata": {},
   "source": [
    "### **Data Dictionary**"
   ]
  },
  {
   "cell_type": "markdown",
   "id": "1b62fb48",
   "metadata": {},
   "source": [
    "Following are the variables with their definition and key:\n",
    "\n",
    "|Variables|Description|\n",
    "|:-|:-|\n",
    "|DATE| The date of the observation|\n",
    "|PRCP |The amount of precipitation, in inches|\n",
    "|MAX |The maximum temperature for that day, in degrees Fahrenheit|\n",
    "|TMIN |The minimum temperature for that day, in degrees Fahrenheit|\n",
    "|RAIN |TRUE if rain was observed on that day, FALSE if it was not|\n"
   ]
  },
  {
   "cell_type": "markdown",
   "id": "f0c8cc0a",
   "metadata": {},
   "source": [
    "### **Solution**"
   ]
  },
  {
   "cell_type": "markdown",
   "id": "ca424d1e",
   "metadata": {},
   "source": [
    "#### **Import Libraries**\n",
    "- Pandas is a Python library for data manipulation and analysis.\n",
    "- NumPy is a package that contains a multidimensional array object and several derived ones.\n",
    "- Matplotlib is a Python visualization package for 2D array plots.\n",
    "- Seaborn is built on top of matplotlib. It's used for exploratory data analysis and data visualization.\n",
    "- To work with dates as date objects, use Datetime."
   ]
  },
  {
   "cell_type": "code",
   "execution_count": 1,
   "id": "9bdf1e59",
   "metadata": {},
   "outputs": [],
   "source": [
    "#Import the required libraries\n",
    "import pandas as pd\n",
    "import numpy as np\n",
    "import matplotlib.pyplot as plt\n",
    "import seaborn as sns\n",
    "%matplotlib inline\n",
    "import time\n",
    "import datetime\n",
    "import warnings\n",
    "warnings.filterwarnings(\"ignore\") "
   ]
  },
  {
   "cell_type": "markdown",
   "id": "1991e1eb",
   "metadata": {},
   "source": [
    "#### Loading the dataset"
   ]
  },
  {
   "cell_type": "code",
   "execution_count": 2,
   "id": "0de83051",
   "metadata": {},
   "outputs": [],
   "source": [
    "df = pd.read_csv('seattleWeather_1948-2017.csv')"
   ]
  },
  {
   "cell_type": "code",
   "execution_count": 3,
   "id": "a7407ff1",
   "metadata": {},
   "outputs": [],
   "source": [
    "df.rename({'TMAX':'TMAX (F)','TMIN':'TMIN (F)'},axis=1,inplace=True)"
   ]
  },
  {
   "cell_type": "markdown",
   "id": "b4bda406",
   "metadata": {},
   "source": [
    "#### Preview the information of first 5 weather conditions"
   ]
  },
  {
   "cell_type": "code",
   "execution_count": 4,
   "id": "000b738c",
   "metadata": {
    "scrolled": true
   },
   "outputs": [
    {
     "data": {
      "text/html": [
       "<div>\n",
       "<style scoped>\n",
       "    .dataframe tbody tr th:only-of-type {\n",
       "        vertical-align: middle;\n",
       "    }\n",
       "\n",
       "    .dataframe tbody tr th {\n",
       "        vertical-align: top;\n",
       "    }\n",
       "\n",
       "    .dataframe thead th {\n",
       "        text-align: right;\n",
       "    }\n",
       "</style>\n",
       "<table border=\"1\" class=\"dataframe\">\n",
       "  <thead>\n",
       "    <tr style=\"text-align: right;\">\n",
       "      <th></th>\n",
       "      <th>DATE</th>\n",
       "      <th>PRCP</th>\n",
       "      <th>TMAX (F)</th>\n",
       "      <th>TMIN (F)</th>\n",
       "      <th>RAIN</th>\n",
       "    </tr>\n",
       "  </thead>\n",
       "  <tbody>\n",
       "    <tr>\n",
       "      <th>0</th>\n",
       "      <td>1948-01-01</td>\n",
       "      <td>0.47</td>\n",
       "      <td>51</td>\n",
       "      <td>42</td>\n",
       "      <td>True</td>\n",
       "    </tr>\n",
       "    <tr>\n",
       "      <th>1</th>\n",
       "      <td>1948-01-02</td>\n",
       "      <td>0.59</td>\n",
       "      <td>45</td>\n",
       "      <td>36</td>\n",
       "      <td>True</td>\n",
       "    </tr>\n",
       "    <tr>\n",
       "      <th>2</th>\n",
       "      <td>1948-01-03</td>\n",
       "      <td>0.42</td>\n",
       "      <td>45</td>\n",
       "      <td>35</td>\n",
       "      <td>True</td>\n",
       "    </tr>\n",
       "    <tr>\n",
       "      <th>3</th>\n",
       "      <td>1948-01-04</td>\n",
       "      <td>0.31</td>\n",
       "      <td>45</td>\n",
       "      <td>34</td>\n",
       "      <td>True</td>\n",
       "    </tr>\n",
       "    <tr>\n",
       "      <th>4</th>\n",
       "      <td>1948-01-05</td>\n",
       "      <td>0.17</td>\n",
       "      <td>45</td>\n",
       "      <td>32</td>\n",
       "      <td>True</td>\n",
       "    </tr>\n",
       "  </tbody>\n",
       "</table>\n",
       "</div>"
      ],
      "text/plain": [
       "         DATE  PRCP  TMAX (F)  TMIN (F)  RAIN\n",
       "0  1948-01-01  0.47        51        42  True\n",
       "1  1948-01-02  0.59        45        36  True\n",
       "2  1948-01-03  0.42        45        35  True\n",
       "3  1948-01-04  0.31        45        34  True\n",
       "4  1948-01-05  0.17        45        32  True"
      ]
     },
     "execution_count": 4,
     "metadata": {},
     "output_type": "execute_result"
    }
   ],
   "source": [
    "df.head()"
   ]
  },
  {
   "cell_type": "markdown",
   "id": "a8ac7a83",
   "metadata": {},
   "source": [
    "#### Preview the information of last 5 weather conditions."
   ]
  },
  {
   "cell_type": "code",
   "execution_count": 5,
   "id": "214d75e7",
   "metadata": {
    "scrolled": false
   },
   "outputs": [
    {
     "data": {
      "text/html": [
       "<div>\n",
       "<style scoped>\n",
       "    .dataframe tbody tr th:only-of-type {\n",
       "        vertical-align: middle;\n",
       "    }\n",
       "\n",
       "    .dataframe tbody tr th {\n",
       "        vertical-align: top;\n",
       "    }\n",
       "\n",
       "    .dataframe thead th {\n",
       "        text-align: right;\n",
       "    }\n",
       "</style>\n",
       "<table border=\"1\" class=\"dataframe\">\n",
       "  <thead>\n",
       "    <tr style=\"text-align: right;\">\n",
       "      <th></th>\n",
       "      <th>DATE</th>\n",
       "      <th>PRCP</th>\n",
       "      <th>TMAX (F)</th>\n",
       "      <th>TMIN (F)</th>\n",
       "      <th>RAIN</th>\n",
       "    </tr>\n",
       "  </thead>\n",
       "  <tbody>\n",
       "    <tr>\n",
       "      <th>25546</th>\n",
       "      <td>2017-12-10</td>\n",
       "      <td>0.0</td>\n",
       "      <td>49</td>\n",
       "      <td>34</td>\n",
       "      <td>False</td>\n",
       "    </tr>\n",
       "    <tr>\n",
       "      <th>25547</th>\n",
       "      <td>2017-12-11</td>\n",
       "      <td>0.0</td>\n",
       "      <td>49</td>\n",
       "      <td>29</td>\n",
       "      <td>False</td>\n",
       "    </tr>\n",
       "    <tr>\n",
       "      <th>25548</th>\n",
       "      <td>2017-12-12</td>\n",
       "      <td>0.0</td>\n",
       "      <td>46</td>\n",
       "      <td>32</td>\n",
       "      <td>False</td>\n",
       "    </tr>\n",
       "    <tr>\n",
       "      <th>25549</th>\n",
       "      <td>2017-12-13</td>\n",
       "      <td>0.0</td>\n",
       "      <td>48</td>\n",
       "      <td>34</td>\n",
       "      <td>False</td>\n",
       "    </tr>\n",
       "    <tr>\n",
       "      <th>25550</th>\n",
       "      <td>2017-12-14</td>\n",
       "      <td>0.0</td>\n",
       "      <td>50</td>\n",
       "      <td>36</td>\n",
       "      <td>False</td>\n",
       "    </tr>\n",
       "  </tbody>\n",
       "</table>\n",
       "</div>"
      ],
      "text/plain": [
       "             DATE  PRCP  TMAX (F)  TMIN (F)   RAIN\n",
       "25546  2017-12-10   0.0        49        34  False\n",
       "25547  2017-12-11   0.0        49        29  False\n",
       "25548  2017-12-12   0.0        46        32  False\n",
       "25549  2017-12-13   0.0        48        34  False\n",
       "25550  2017-12-14   0.0        50        36  False"
      ]
     },
     "execution_count": 5,
     "metadata": {},
     "output_type": "execute_result"
    }
   ],
   "source": [
    "df.tail()"
   ]
  },
  {
   "cell_type": "markdown",
   "id": "9333d89a",
   "metadata": {},
   "source": [
    "#### No of rows and columns.           Format:- (Rows,columns)"
   ]
  },
  {
   "cell_type": "code",
   "execution_count": 6,
   "id": "91f6a3da",
   "metadata": {},
   "outputs": [
    {
     "data": {
      "text/plain": [
       "(25551, 5)"
      ]
     },
     "execution_count": 6,
     "metadata": {},
     "output_type": "execute_result"
    }
   ],
   "source": [
    "df.shape"
   ]
  },
  {
   "cell_type": "markdown",
   "id": "5e902ec6",
   "metadata": {},
   "source": [
    "#### Check the name of all columns available in dataset"
   ]
  },
  {
   "cell_type": "code",
   "execution_count": 7,
   "id": "14424d40",
   "metadata": {
    "scrolled": false
   },
   "outputs": [
    {
     "data": {
      "text/plain": [
       "DATE         object\n",
       "PRCP        float64\n",
       "TMAX (F)      int64\n",
       "TMIN (F)      int64\n",
       "RAIN         object\n",
       "dtype: object"
      ]
     },
     "execution_count": 7,
     "metadata": {},
     "output_type": "execute_result"
    }
   ],
   "source": [
    "df.dtypes"
   ]
  },
  {
   "cell_type": "markdown",
   "id": "e7947634",
   "metadata": {},
   "source": [
    "#### A Python data frame's summary statistics are computed and shown using the describe() function."
   ]
  },
  {
   "cell_type": "code",
   "execution_count": 8,
   "id": "a81aaf31",
   "metadata": {},
   "outputs": [
    {
     "data": {
      "text/html": [
       "<div>\n",
       "<style scoped>\n",
       "    .dataframe tbody tr th:only-of-type {\n",
       "        vertical-align: middle;\n",
       "    }\n",
       "\n",
       "    .dataframe tbody tr th {\n",
       "        vertical-align: top;\n",
       "    }\n",
       "\n",
       "    .dataframe thead th {\n",
       "        text-align: right;\n",
       "    }\n",
       "</style>\n",
       "<table border=\"1\" class=\"dataframe\">\n",
       "  <thead>\n",
       "    <tr style=\"text-align: right;\">\n",
       "      <th></th>\n",
       "      <th>PRCP</th>\n",
       "      <th>TMAX (F)</th>\n",
       "      <th>TMIN (F)</th>\n",
       "    </tr>\n",
       "  </thead>\n",
       "  <tbody>\n",
       "    <tr>\n",
       "      <th>count</th>\n",
       "      <td>25548.000000</td>\n",
       "      <td>25551.000000</td>\n",
       "      <td>25551.000000</td>\n",
       "    </tr>\n",
       "    <tr>\n",
       "      <th>mean</th>\n",
       "      <td>0.106222</td>\n",
       "      <td>59.544206</td>\n",
       "      <td>44.514226</td>\n",
       "    </tr>\n",
       "    <tr>\n",
       "      <th>std</th>\n",
       "      <td>0.239031</td>\n",
       "      <td>12.772984</td>\n",
       "      <td>8.892836</td>\n",
       "    </tr>\n",
       "    <tr>\n",
       "      <th>min</th>\n",
       "      <td>0.000000</td>\n",
       "      <td>4.000000</td>\n",
       "      <td>0.000000</td>\n",
       "    </tr>\n",
       "    <tr>\n",
       "      <th>25%</th>\n",
       "      <td>0.000000</td>\n",
       "      <td>50.000000</td>\n",
       "      <td>38.000000</td>\n",
       "    </tr>\n",
       "    <tr>\n",
       "      <th>50%</th>\n",
       "      <td>0.000000</td>\n",
       "      <td>58.000000</td>\n",
       "      <td>45.000000</td>\n",
       "    </tr>\n",
       "    <tr>\n",
       "      <th>75%</th>\n",
       "      <td>0.100000</td>\n",
       "      <td>69.000000</td>\n",
       "      <td>52.000000</td>\n",
       "    </tr>\n",
       "    <tr>\n",
       "      <th>max</th>\n",
       "      <td>5.020000</td>\n",
       "      <td>103.000000</td>\n",
       "      <td>71.000000</td>\n",
       "    </tr>\n",
       "  </tbody>\n",
       "</table>\n",
       "</div>"
      ],
      "text/plain": [
       "               PRCP      TMAX (F)      TMIN (F)\n",
       "count  25548.000000  25551.000000  25551.000000\n",
       "mean       0.106222     59.544206     44.514226\n",
       "std        0.239031     12.772984      8.892836\n",
       "min        0.000000      4.000000      0.000000\n",
       "25%        0.000000     50.000000     38.000000\n",
       "50%        0.000000     58.000000     45.000000\n",
       "75%        0.100000     69.000000     52.000000\n",
       "max        5.020000    103.000000     71.000000"
      ]
     },
     "execution_count": 8,
     "metadata": {},
     "output_type": "execute_result"
    }
   ],
   "source": [
    "df.describe()"
   ]
  },
  {
   "cell_type": "code",
   "execution_count": 9,
   "id": "e14236d9",
   "metadata": {},
   "outputs": [
    {
     "name": "stdout",
     "output_type": "stream",
     "text": [
      "<class 'pandas.core.frame.DataFrame'>\n",
      "RangeIndex: 25551 entries, 0 to 25550\n",
      "Data columns (total 5 columns):\n",
      " #   Column    Non-Null Count  Dtype  \n",
      "---  ------    --------------  -----  \n",
      " 0   DATE      25551 non-null  object \n",
      " 1   PRCP      25548 non-null  float64\n",
      " 2   TMAX (F)  25551 non-null  int64  \n",
      " 3   TMIN (F)  25551 non-null  int64  \n",
      " 4   RAIN      25548 non-null  object \n",
      "dtypes: float64(1), int64(2), object(2)\n",
      "memory usage: 998.2+ KB\n"
     ]
    }
   ],
   "source": [
    "df.info()"
   ]
  },
  {
   "cell_type": "code",
   "execution_count": 10,
   "id": "24d11107",
   "metadata": {
    "scrolled": true
   },
   "outputs": [
    {
     "data": {
      "text/plain": [
       "DATE        0\n",
       "PRCP        3\n",
       "TMAX (F)    0\n",
       "TMIN (F)    0\n",
       "RAIN        3\n",
       "dtype: int64"
      ]
     },
     "execution_count": 10,
     "metadata": {},
     "output_type": "execute_result"
    }
   ],
   "source": [
    "df.isnull().sum()"
   ]
  },
  {
   "cell_type": "markdown",
   "id": "0f859176",
   "metadata": {},
   "source": [
    "#### **Finding and Treating Null Values**"
   ]
  },
  {
   "cell_type": "markdown",
   "id": "f67eb64f",
   "metadata": {},
   "source": [
    "To make our data trainable, it is important to get rid of the null values. \n",
    "\n",
    "Following are the techniques used to fix the missing values:\n",
    "\n",
    "* Substituting the null values with either the median or mean\n",
    "  \n",
    "    Note: Median is preferred, as it is more robust to outliers.\n",
    "\n",
    "* Dropping the column for the instances where the majority of data is missing"
   ]
  },
  {
   "cell_type": "markdown",
   "id": "d4a3a9f4",
   "metadata": {},
   "source": [
    "#### Now, let's deep dive to get specific detail in the missing column."
   ]
  },
  {
   "cell_type": "code",
   "execution_count": 11,
   "id": "1f06cd78",
   "metadata": {
    "scrolled": false
   },
   "outputs": [
    {
     "data": {
      "text/html": [
       "<div>\n",
       "<style scoped>\n",
       "    .dataframe tbody tr th:only-of-type {\n",
       "        vertical-align: middle;\n",
       "    }\n",
       "\n",
       "    .dataframe tbody tr th {\n",
       "        vertical-align: top;\n",
       "    }\n",
       "\n",
       "    .dataframe thead th {\n",
       "        text-align: right;\n",
       "    }\n",
       "</style>\n",
       "<table border=\"1\" class=\"dataframe\">\n",
       "  <thead>\n",
       "    <tr style=\"text-align: right;\">\n",
       "      <th></th>\n",
       "      <th>DATE</th>\n",
       "      <th>PRCP</th>\n",
       "      <th>TMAX (F)</th>\n",
       "      <th>TMIN (F)</th>\n",
       "      <th>RAIN</th>\n",
       "    </tr>\n",
       "  </thead>\n",
       "  <tbody>\n",
       "    <tr>\n",
       "      <th>18415</th>\n",
       "      <td>1998-06-02</td>\n",
       "      <td>NaN</td>\n",
       "      <td>72</td>\n",
       "      <td>52</td>\n",
       "      <td>NaN</td>\n",
       "    </tr>\n",
       "    <tr>\n",
       "      <th>18416</th>\n",
       "      <td>1998-06-03</td>\n",
       "      <td>NaN</td>\n",
       "      <td>66</td>\n",
       "      <td>51</td>\n",
       "      <td>NaN</td>\n",
       "    </tr>\n",
       "    <tr>\n",
       "      <th>21067</th>\n",
       "      <td>2005-09-05</td>\n",
       "      <td>NaN</td>\n",
       "      <td>70</td>\n",
       "      <td>52</td>\n",
       "      <td>NaN</td>\n",
       "    </tr>\n",
       "  </tbody>\n",
       "</table>\n",
       "</div>"
      ],
      "text/plain": [
       "             DATE  PRCP  TMAX (F)  TMIN (F) RAIN\n",
       "18415  1998-06-02   NaN        72        52  NaN\n",
       "18416  1998-06-03   NaN        66        51  NaN\n",
       "21067  2005-09-05   NaN        70        52  NaN"
      ]
     },
     "execution_count": 11,
     "metadata": {},
     "output_type": "execute_result"
    }
   ],
   "source": [
    "df[pd.isnull(df['PRCP'])]"
   ]
  },
  {
   "cell_type": "markdown",
   "id": "c7c537fc",
   "metadata": {},
   "source": [
    "There are **three rows** in **'PRCP'** column which have null values"
   ]
  },
  {
   "cell_type": "code",
   "execution_count": 12,
   "id": "233f468a",
   "metadata": {
    "scrolled": true
   },
   "outputs": [
    {
     "data": {
      "text/html": [
       "<div>\n",
       "<style scoped>\n",
       "    .dataframe tbody tr th:only-of-type {\n",
       "        vertical-align: middle;\n",
       "    }\n",
       "\n",
       "    .dataframe tbody tr th {\n",
       "        vertical-align: top;\n",
       "    }\n",
       "\n",
       "    .dataframe thead th {\n",
       "        text-align: right;\n",
       "    }\n",
       "</style>\n",
       "<table border=\"1\" class=\"dataframe\">\n",
       "  <thead>\n",
       "    <tr style=\"text-align: right;\">\n",
       "      <th></th>\n",
       "      <th>DATE</th>\n",
       "      <th>PRCP</th>\n",
       "      <th>TMAX (F)</th>\n",
       "      <th>TMIN (F)</th>\n",
       "      <th>RAIN</th>\n",
       "    </tr>\n",
       "  </thead>\n",
       "  <tbody>\n",
       "    <tr>\n",
       "      <th>18415</th>\n",
       "      <td>1998-06-02</td>\n",
       "      <td>NaN</td>\n",
       "      <td>72</td>\n",
       "      <td>52</td>\n",
       "      <td>NaN</td>\n",
       "    </tr>\n",
       "    <tr>\n",
       "      <th>18416</th>\n",
       "      <td>1998-06-03</td>\n",
       "      <td>NaN</td>\n",
       "      <td>66</td>\n",
       "      <td>51</td>\n",
       "      <td>NaN</td>\n",
       "    </tr>\n",
       "    <tr>\n",
       "      <th>21067</th>\n",
       "      <td>2005-09-05</td>\n",
       "      <td>NaN</td>\n",
       "      <td>70</td>\n",
       "      <td>52</td>\n",
       "      <td>NaN</td>\n",
       "    </tr>\n",
       "  </tbody>\n",
       "</table>\n",
       "</div>"
      ],
      "text/plain": [
       "             DATE  PRCP  TMAX (F)  TMIN (F) RAIN\n",
       "18415  1998-06-02   NaN        72        52  NaN\n",
       "18416  1998-06-03   NaN        66        51  NaN\n",
       "21067  2005-09-05   NaN        70        52  NaN"
      ]
     },
     "execution_count": 12,
     "metadata": {},
     "output_type": "execute_result"
    }
   ],
   "source": [
    "#df[pd.isnull(df['RAIN'])]\n",
    "df[df['RAIN'].isnull()]"
   ]
  },
  {
   "cell_type": "markdown",
   "id": "44c831a1",
   "metadata": {},
   "source": [
    "There are **three rows** in **'RAIN'** column which have null values"
   ]
  },
  {
   "cell_type": "markdown",
   "id": "dc8ebf02",
   "metadata": {},
   "source": [
    "We learned from the above code that there is a missed value for the 9/5/2005 date column for PRCP and RAIN."
   ]
  },
  {
   "cell_type": "markdown",
   "id": "680aba9e",
   "metadata": {},
   "source": [
    "#### Plot graph to determine the chances of rain"
   ]
  },
  {
   "cell_type": "code",
   "execution_count": 13,
   "id": "32013467",
   "metadata": {
    "scrolled": true
   },
   "outputs": [
    {
     "data": {
      "text/plain": [
       "<AxesSubplot:xlabel='RAIN', ylabel='count'>"
      ]
     },
     "execution_count": 13,
     "metadata": {},
     "output_type": "execute_result"
    },
    {
     "data": {
      "image/png": "[encoded data removed]",
      "text/plain": [
       "<Figure size 432x288 with 1 Axes>"
      ]
     },
     "metadata": {
      "needs_background": "light"
     },
     "output_type": "display_data"
    }
   ],
   "source": [
    "sns.countplot(x=df['RAIN'])"
   ]
  },
  {
   "cell_type": "markdown",
   "id": "2059f52c",
   "metadata": {},
   "source": [
    "We can see from the figure above that there are **less chances of rain**. So, in the missing information, we can just insert **\"False\"**."
   ]
  },
  {
   "cell_type": "code",
   "execution_count": 14,
   "id": "d4f18f5e",
   "metadata": {},
   "outputs": [],
   "source": [
    "# def RAIN_INSERTION(RAIN):\n",
    "#     if pd.isnull(RAIN):\n",
    "#         return 'False'\n",
    "#     else:\n",
    "#         return RAIN"
   ]
  },
  {
   "cell_type": "code",
   "execution_count": 15,
   "id": "a5064e8a",
   "metadata": {},
   "outputs": [],
   "source": [
    "# df['RAIN']=df['RAIN'].map(RAIN_INSERTION)"
   ]
  },
  {
   "cell_type": "markdown",
   "id": "48e44112",
   "metadata": {},
   "source": [
    "#### Custom function to determine the chances of 'RAIN'"
   ]
  },
  {
   "cell_type": "code",
   "execution_count": 16,
   "id": "d6d2785c",
   "metadata": {},
   "outputs": [],
   "source": [
    "df['RAIN']=df['RAIN'].map(lambda x: 'False' if pd.isnull(x) else x)"
   ]
  },
  {
   "cell_type": "markdown",
   "id": "e89d776b",
   "metadata": {},
   "source": [
    "#### Custom function to determine the amount of 'Precipitation'"
   ]
  },
  {
   "cell_type": "code",
   "execution_count": 17,
   "id": "728ae383",
   "metadata": {},
   "outputs": [],
   "source": [
    "def PRCP_INSERTION(col):\n",
    "    PRCP=col[0]\n",
    "    if pd.isnull(PRCP):\n",
    "        return df['PRCP'].mean()\n",
    "    else:\n",
    "        return PRCP"
   ]
  },
  {
   "cell_type": "code",
   "execution_count": 18,
   "id": "cb0b0c51",
   "metadata": {},
   "outputs": [],
   "source": [
    "df['PRCP']=df[['PRCP']].apply(PRCP_INSERTION,axis=1)"
   ]
  },
  {
   "cell_type": "markdown",
   "id": "8392db32",
   "metadata": {},
   "source": [
    "#### Checking wheater our function worked. Yes it is!!"
   ]
  },
  {
   "cell_type": "code",
   "execution_count": 19,
   "id": "5c71adcc",
   "metadata": {},
   "outputs": [
    {
     "data": {
      "text/plain": [
       "DATE        0\n",
       "PRCP        0\n",
       "TMAX (F)    0\n",
       "TMIN (F)    0\n",
       "RAIN        0\n",
       "dtype: int64"
      ]
     },
     "execution_count": 19,
     "metadata": {},
     "output_type": "execute_result"
    }
   ],
   "source": [
    "df.isnull().sum()"
   ]
  },
  {
   "cell_type": "markdown",
   "id": "320e7816",
   "metadata": {},
   "source": [
    "#### **Exploratory Data Analysis**"
   ]
  },
  {
   "cell_type": "markdown",
   "id": "7375b734",
   "metadata": {},
   "source": [
    "#### Plot graph to determine the correlation between Precipitation and Minimum Temperature"
   ]
  },
  {
   "cell_type": "code",
   "execution_count": 20,
   "id": "d0fc99bc",
   "metadata": {},
   "outputs": [
    {
     "data": {
      "text/plain": [
       "Text(0.5, 1.0, 'Precipitation Vs Minimum Temperature')"
      ]
     },
     "execution_count": 20,
     "metadata": {},
     "output_type": "execute_result"
    },
    {
     "data": {
      "image/png": "[encoded data removed]",
      "text/plain": [
       "<Figure size 504x504 with 1 Axes>"
      ]
     },
     "metadata": {
      "needs_background": "light"
     },
     "output_type": "display_data"
    }
   ],
   "source": [
    "plt.figure(figsize=(7,7))\n",
    "plt.scatter(x='TMIN (F)',y='PRCP',data=df)\n",
    "plt.xlabel('Minimum Temperature')\n",
    "plt.ylabel('PRCP')\n",
    "plt.title('Precipitation Vs Minimum Temperature')"
   ]
  },
  {
   "cell_type": "markdown",
   "id": "aa887b68",
   "metadata": {},
   "source": [
    "#### Plot graph to determine the correlation between Precipitation and Maximum Temperature"
   ]
  },
  {
   "cell_type": "code",
   "execution_count": 21,
   "id": "1a0d3cd0",
   "metadata": {
    "scrolled": false
   },
   "outputs": [
    {
     "data": {
      "text/plain": [
       "Text(0.5, 1.0, 'Precipitation Vs Maximum Temperature')"
      ]
     },
     "execution_count": 21,
     "metadata": {},
     "output_type": "execute_result"
    },
    {
     "data": {
      "image/png": "[encoded data removed]",
      "text/plain": [
       "<Figure size 504x504 with 1 Axes>"
      ]
     },
     "metadata": {
      "needs_background": "light"
     },
     "output_type": "display_data"
    }
   ],
   "source": [
    "plt.figure(figsize=(7,7))\n",
    "plt.scatter(x='TMAX (F)',y='PRCP',data=df)\n",
    "plt.xlabel('Maximum Temperature')\n",
    "plt.ylabel('PRCP')\n",
    "plt.title('Precipitation Vs Maximum Temperature')"
   ]
  },
  {
   "cell_type": "markdown",
   "id": "f3faa1ae",
   "metadata": {},
   "source": [
    "The graph shows that when the maximum temperature is between 40 and 80 degrees, the amount of precipitation increases."
   ]
  },
  {
   "cell_type": "markdown",
   "id": "29397200",
   "metadata": {},
   "source": [
    "#### Plot graph to determine the overall distribution of minimum temperature"
   ]
  },
  {
   "cell_type": "code",
   "execution_count": 22,
   "id": "51b3e430",
   "metadata": {
    "scrolled": false
   },
   "outputs": [
    {
     "data": {
      "text/plain": [
       "<AxesSubplot:xlabel='TMIN (F)', ylabel='Density'>"
      ]
     },
     "execution_count": 22,
     "metadata": {},
     "output_type": "execute_result"
    },
    {
     "data": {
      "image/png": "[encoded data removed]",
      "text/plain": [
       "<Figure size 432x288 with 1 Axes>"
      ]
     },
     "metadata": {
      "needs_background": "light"
     },
     "output_type": "display_data"
    }
   ],
   "source": [
    "sns.distplot(df['TMIN (F)'])"
   ]
  },
  {
   "cell_type": "markdown",
   "id": "e68f6763",
   "metadata": {},
   "source": [
    "The graph shows increasing density when the minimum temperature is between 30 to 60 degrees."
   ]
  },
  {
   "cell_type": "markdown",
   "id": "0c2e9bc0",
   "metadata": {},
   "source": [
    "#### Plot graph to determine the overall distribution of maximum temperature "
   ]
  },
  {
   "cell_type": "code",
   "execution_count": 23,
   "id": "562b9acc",
   "metadata": {
    "scrolled": true
   },
   "outputs": [
    {
     "data": {
      "text/plain": [
       "<AxesSubplot:xlabel='TMAX (F)', ylabel='Density'>"
      ]
     },
     "execution_count": 23,
     "metadata": {},
     "output_type": "execute_result"
    },
    {
     "data": {
      "image/png": "[encoded data removed]",
      "text/plain": [
       "<Figure size 432x288 with 1 Axes>"
      ]
     },
     "metadata": {
      "needs_background": "light"
     },
     "output_type": "display_data"
    }
   ],
   "source": [
    "sns.distplot(df['TMAX (F)'])"
   ]
  },
  {
   "cell_type": "markdown",
   "id": "9cfb4cf5",
   "metadata": {},
   "source": [
    "The graph shows increasing density when the maximum temperature is between 40 to 60 degrees."
   ]
  },
  {
   "cell_type": "markdown",
   "id": "d4c57635",
   "metadata": {},
   "source": [
    "#### Plot graph to determine the outliers in precipitation, maximum temperature, and minimum temperature"
   ]
  },
  {
   "cell_type": "code",
   "execution_count": 24,
   "id": "f9da58aa",
   "metadata": {},
   "outputs": [
    {
     "data": {
      "text/plain": [
       "<AxesSubplot:>"
      ]
     },
     "execution_count": 24,
     "metadata": {},
     "output_type": "execute_result"
    },
    {
     "data": {
      "image/png": "[encoded data removed]",
      "text/plain": [
       "<Figure size 432x288 with 1 Axes>"
      ]
     },
     "metadata": {
      "needs_background": "light"
     },
     "output_type": "display_data"
    }
   ],
   "source": [
    "sns.boxplot(data=df)"
   ]
  },
  {
   "cell_type": "markdown",
   "id": "45e3ec2f",
   "metadata": {},
   "source": [
    "From the above figure, we can say that there are **some outliers**."
   ]
  },
  {
   "cell_type": "markdown",
   "id": "c7b5bf77",
   "metadata": {},
   "source": [
    "##### **Outlier Treatment**\n",
    "\n",
    "Let's remove the outliers from the data."
   ]
  },
  {
   "cell_type": "code",
   "execution_count": 25,
   "id": "73ab623f",
   "metadata": {},
   "outputs": [],
   "source": [
    "df=df.drop(df[df['TMIN (F)']<17 ].index)"
   ]
  },
  {
   "cell_type": "code",
   "execution_count": 26,
   "id": "3d2299c6",
   "metadata": {},
   "outputs": [],
   "source": [
    "df=df.drop(df[(df['TMAX (F)']>97.5) | (df['TMAX (F)']< 21.5)].index)"
   ]
  },
  {
   "cell_type": "code",
   "execution_count": 27,
   "id": "1493b95b",
   "metadata": {},
   "outputs": [],
   "source": [
    "df=df.drop(df[(df['PRCP']>0.25) | (df['PRCP']< -0.15) ].index)"
   ]
  },
  {
   "cell_type": "markdown",
   "id": "7212cedc",
   "metadata": {},
   "source": [
    "##### Let's check whether the outliers are removed or not."
   ]
  },
  {
   "cell_type": "code",
   "execution_count": 28,
   "id": "51189aa6",
   "metadata": {
    "scrolled": true
   },
   "outputs": [
    {
     "data": {
      "text/plain": [
       "<AxesSubplot:>"
      ]
     },
     "execution_count": 28,
     "metadata": {},
     "output_type": "execute_result"
    },
    {
     "data": {
      "image/png": "[encoded data removed]",
      "text/plain": [
       "<Figure size 432x288 with 1 Axes>"
      ]
     },
     "metadata": {
      "needs_background": "light"
     },
     "output_type": "display_data"
    }
   ],
   "source": [
    "sns.boxplot(data=df)"
   ]
  },
  {
   "cell_type": "markdown",
   "id": "63f097aa",
   "metadata": {},
   "source": [
    "#### Importing Logistic Regression Model"
   ]
  },
  {
   "cell_type": "code",
   "execution_count": 29,
   "id": "0090ea72",
   "metadata": {},
   "outputs": [],
   "source": [
    "#Importing Logistic Regression model\n",
    "from sklearn.linear_model import LogisticRegression"
   ]
  },
  {
   "cell_type": "code",
   "execution_count": 30,
   "id": "efc56dad",
   "metadata": {},
   "outputs": [],
   "source": [
    "lr=LogisticRegression()"
   ]
  },
  {
   "cell_type": "code",
   "execution_count": 31,
   "id": "7b5c164f",
   "metadata": {},
   "outputs": [],
   "source": [
    "#Importing \"train_test-split\" function to test the model\n",
    "from sklearn.model_selection import train_test_split"
   ]
  },
  {
   "cell_type": "code",
   "execution_count": 32,
   "id": "171718da",
   "metadata": {},
   "outputs": [
    {
     "data": {
      "text/html": [
       "<div>\n",
       "<style scoped>\n",
       "    .dataframe tbody tr th:only-of-type {\n",
       "        vertical-align: middle;\n",
       "    }\n",
       "\n",
       "    .dataframe tbody tr th {\n",
       "        vertical-align: top;\n",
       "    }\n",
       "\n",
       "    .dataframe thead th {\n",
       "        text-align: right;\n",
       "    }\n",
       "</style>\n",
       "<table border=\"1\" class=\"dataframe\">\n",
       "  <thead>\n",
       "    <tr style=\"text-align: right;\">\n",
       "      <th></th>\n",
       "      <th>DATE</th>\n",
       "      <th>PRCP</th>\n",
       "      <th>TMAX (F)</th>\n",
       "      <th>TMIN (F)</th>\n",
       "      <th>RAIN</th>\n",
       "    </tr>\n",
       "  </thead>\n",
       "  <tbody>\n",
       "    <tr>\n",
       "      <th>4</th>\n",
       "      <td>1948-01-05</td>\n",
       "      <td>0.17</td>\n",
       "      <td>45</td>\n",
       "      <td>32</td>\n",
       "      <td>True</td>\n",
       "    </tr>\n",
       "    <tr>\n",
       "      <th>7</th>\n",
       "      <td>1948-01-08</td>\n",
       "      <td>0.04</td>\n",
       "      <td>48</td>\n",
       "      <td>35</td>\n",
       "      <td>True</td>\n",
       "    </tr>\n",
       "    <tr>\n",
       "      <th>8</th>\n",
       "      <td>1948-01-09</td>\n",
       "      <td>0.12</td>\n",
       "      <td>50</td>\n",
       "      <td>31</td>\n",
       "      <td>True</td>\n",
       "    </tr>\n",
       "    <tr>\n",
       "      <th>10</th>\n",
       "      <td>1948-01-11</td>\n",
       "      <td>0.01</td>\n",
       "      <td>42</td>\n",
       "      <td>32</td>\n",
       "      <td>True</td>\n",
       "    </tr>\n",
       "    <tr>\n",
       "      <th>11</th>\n",
       "      <td>1948-01-12</td>\n",
       "      <td>0.00</td>\n",
       "      <td>41</td>\n",
       "      <td>26</td>\n",
       "      <td>False</td>\n",
       "    </tr>\n",
       "  </tbody>\n",
       "</table>\n",
       "</div>"
      ],
      "text/plain": [
       "          DATE  PRCP  TMAX (F)  TMIN (F)   RAIN\n",
       "4   1948-01-05  0.17        45        32   True\n",
       "7   1948-01-08  0.04        48        35   True\n",
       "8   1948-01-09  0.12        50        31   True\n",
       "10  1948-01-11  0.01        42        32   True\n",
       "11  1948-01-12  0.00        41        26  False"
      ]
     },
     "execution_count": 32,
     "metadata": {},
     "output_type": "execute_result"
    }
   ],
   "source": [
    "df.head()"
   ]
  },
  {
   "cell_type": "code",
   "execution_count": 33,
   "id": "82d47c9f",
   "metadata": {},
   "outputs": [],
   "source": [
    "#Splitting of data as X (Features) and y (Target or label) happens here.\n",
    "X=df.drop(['RAIN','DATE'],axis=1)\n",
    "y=df['RAIN'].astype('str')"
   ]
  },
  {
   "cell_type": "code",
   "execution_count": 34,
   "id": "85aaa656",
   "metadata": {},
   "outputs": [
    {
     "name": "stdout",
     "output_type": "stream",
     "text": [
      "(21893, 3)\n",
      "(21893,)\n"
     ]
    }
   ],
   "source": [
    "#Confirming whether it got splitted properly.\n",
    "print(X.shape)\n",
    "print(y.shape)"
   ]
  },
  {
   "cell_type": "code",
   "execution_count": 35,
   "id": "16f9bfae",
   "metadata": {},
   "outputs": [],
   "source": [
    "#The X and y got splitted as 70% for training purpose and 30% for testing purpose here\n",
    "X_train, X_test, y_train, y_test = train_test_split(X, y, test_size=0.30, random_state=101)"
   ]
  },
  {
   "cell_type": "code",
   "execution_count": 36,
   "id": "f16c433d",
   "metadata": {},
   "outputs": [
    {
     "data": {
      "text/plain": [
       "LogisticRegression()"
      ]
     },
     "execution_count": 36,
     "metadata": {},
     "output_type": "execute_result"
    }
   ],
   "source": [
    "#Training the model by exposing it to training data.\n",
    "lr.fit(X_train,y_train)"
   ]
  },
  {
   "cell_type": "code",
   "execution_count": 37,
   "id": "2f998985",
   "metadata": {},
   "outputs": [],
   "source": [
    "#The model predicting the values of target from unexposed X_test data\n",
    "pre=lr.predict(X_test)"
   ]
  },
  {
   "cell_type": "code",
   "execution_count": 38,
   "id": "ec335739",
   "metadata": {},
   "outputs": [],
   "source": [
    "from sklearn.metrics import accuracy_score"
   ]
  },
  {
   "cell_type": "markdown",
   "id": "c9086eb4",
   "metadata": {},
   "source": [
    "#### The accuracy score is 91%. It means the model is predicting fairly well."
   ]
  },
  {
   "cell_type": "code",
   "execution_count": 39,
   "id": "d2deec30",
   "metadata": {},
   "outputs": [
    {
     "data": {
      "text/plain": [
       "0.9077344701583435"
      ]
     },
     "execution_count": 39,
     "metadata": {},
     "output_type": "execute_result"
    }
   ],
   "source": [
    "accuracy_score(y_test,pre)"
   ]
  },
  {
   "cell_type": "code",
   "execution_count": 40,
   "id": "350a6e06",
   "metadata": {},
   "outputs": [
    {
     "data": {
      "text/plain": [
       "0.9077344701583435"
      ]
     },
     "execution_count": 40,
     "metadata": {},
     "output_type": "execute_result"
    }
   ],
   "source": [
    "lr.score(X_test,y_test)"
   ]
  }
 ],
 "metadata": {
  "kernelspec": {
   "display_name": "Python 3 (ipykernel)",
   "language": "python",
   "name": "python3"
  },
  "language_info": {
   "codemirror_mode": {
    "name": "ipython",
    "version": 3
   },
   "file_extension": ".py",
   "mimetype": "text/x-python",
   "name": "python",
   "nbconvert_exporter": "python",
   "pygments_lexer": "ipython3",
   "version": "3.9.12"
  }
 },
 "nbformat": 4,
 "nbformat_minor": 5
}
